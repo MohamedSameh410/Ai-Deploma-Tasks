{
 "cells": [
  {
   "cell_type": "markdown",
   "metadata": {},
   "source": [
    "Implementation of graph by adjacency list"
   ]
  },
  {
   "cell_type": "code",
   "execution_count": 1,
   "metadata": {},
   "outputs": [],
   "source": [
    "class Graph:\n",
    "    def __init__(self):\n",
    "        self.grapgh = {}\n",
    "\n",
    "    def add_vertex(self, v):\n",
    "        if v not in self.grapgh:\n",
    "            self.grapgh[v] = []\n",
    "\n",
    "    def add_edge(self, v1, v2):\n",
    "        if v1 not in self.grapgh:\n",
    "            self.grapgh[v1] = []\n",
    "        if v2 not in self.grapgh:\n",
    "            self.grapgh[v2] = []\n",
    "        self.grapgh[v1].append(v2)\n",
    "        self.grapgh[v2].append(v1)\n",
    "\n",
    "    def remove_vertex(self, v):\n",
    "        if v in self.grapgh:\n",
    "            del self.grapgh[v]\n",
    "            for vertex in self.grapgh:\n",
    "                if v in self.grapgh[vertex]:\n",
    "                    self.grapgh[vertex].remove(v)\n",
    "\n",
    "    def remove_edge(self, v1, v2):\n",
    "        if v1 in self.grapgh and v2 in self.grapgh:\n",
    "            if v2 in self.grapgh[v1]:\n",
    "                self.grapgh[v1].remove(v2)\n",
    "            if v1 in self.grapgh[v2]:\n",
    "                self.grapgh[v2].remove(v1)\n",
    "\n",
    "    def get_grapgh(self, v):\n",
    "        return self.grapgh[v]"
   ]
  }
 ],
 "metadata": {
  "kernelspec": {
   "display_name": "Python 3",
   "language": "python",
   "name": "python3"
  },
  "language_info": {
   "codemirror_mode": {
    "name": "ipython",
    "version": 3
   },
   "file_extension": ".py",
   "mimetype": "text/x-python",
   "name": "python",
   "nbconvert_exporter": "python",
   "pygments_lexer": "ipython3",
   "version": "3.11.4"
  },
  "orig_nbformat": 4
 },
 "nbformat": 4,
 "nbformat_minor": 2
}
